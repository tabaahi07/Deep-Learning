{
  "nbformat": 4,
  "nbformat_minor": 0,
  "metadata": {
    "colab": {
      "provenance": [],
      "authorship_tag": "ABX9TyMcOZkr9ZmIY1siUzUXWg/Q",
      "include_colab_link": true
    },
    "kernelspec": {
      "name": "python3",
      "display_name": "Python 3"
    },
    "language_info": {
      "name": "python"
    }
  },
  "cells": [
    {
      "cell_type": "markdown",
      "metadata": {
        "id": "view-in-github",
        "colab_type": "text"
      },
      "source": [
        "<a href=\"https://colab.research.google.com/github/tabaahi07/Deep-Learning/blob/main/Loss_functions.ipynb\" target=\"_parent\"><img src=\"https://colab.research.google.com/assets/colab-badge.svg\" alt=\"Open In Colab\"/></a>"
      ]
    },
    {
      "cell_type": "code",
      "source": [
        "import numpy as np"
      ],
      "metadata": {
        "id": "Ah8VpMZXGso-"
      },
      "execution_count": 35,
      "outputs": []
    },
    {
      "cell_type": "code",
      "execution_count": 36,
      "metadata": {
        "id": "kL1Hh1DXGTVc"
      },
      "outputs": [],
      "source": [
        "# Mean absolute Error\n",
        "y_pred = np.array([1,1,0,0,1])\n",
        "y_true = np.array([0.3,0.7,1,0,0.5])"
      ]
    },
    {
      "cell_type": "code",
      "source": [
        "def MAE(y_true , y_pred) :\n",
        "  error = 0\n",
        "  for yt , yp in zip(y_true , y_pred) :\n",
        "    error += abs(yt-yp)\n",
        "  MAE = error / len(y_true)\n",
        "  return MAE"
      ],
      "metadata": {
        "id": "Nm0iByFlGva1"
      },
      "execution_count": 37,
      "outputs": []
    },
    {
      "cell_type": "code",
      "source": [
        "MAE(y_true , y_pred)"
      ],
      "metadata": {
        "colab": {
          "base_uri": "https://localhost:8080/"
        },
        "id": "CNxScwFhHH_b",
        "outputId": "0395f14f-0d7b-4030-eb68-6b4fdae5c485"
      },
      "execution_count": 38,
      "outputs": [
        {
          "output_type": "execute_result",
          "data": {
            "text/plain": [
              "0.5"
            ]
          },
          "metadata": {},
          "execution_count": 38
        }
      ]
    },
    {
      "cell_type": "code",
      "source": [
        "# Whole function in 1 line using numpy\n",
        "# Total error\n",
        "np.sum(np.abs(y_pred-y_true))\n",
        "# Mean error\n",
        "np.mean(np.abs(y_pred-y_true))"
      ],
      "metadata": {
        "colab": {
          "base_uri": "https://localhost:8080/"
        },
        "id": "PGy3pid6I4lj",
        "outputId": "5a586ef0-88b2-4962-e4e1-d89de5db2de8"
      },
      "execution_count": 39,
      "outputs": [
        {
          "output_type": "execute_result",
          "data": {
            "text/plain": [
              "0.5"
            ]
          },
          "metadata": {},
          "execution_count": 39
        }
      ]
    },
    {
      "cell_type": "code",
      "source": [
        "# Mean square error\n",
        "np.mean((y_pred-y_true) ** 2)"
      ],
      "metadata": {
        "colab": {
          "base_uri": "https://localhost:8080/"
        },
        "id": "OL856_SxJY50",
        "outputId": "a22d03c3-4060-452e-d00d-ba6398a79b13"
      },
      "execution_count": 40,
      "outputs": [
        {
          "output_type": "execute_result",
          "data": {
            "text/plain": [
              "0.366"
            ]
          },
          "metadata": {},
          "execution_count": 40
        }
      ]
    },
    {
      "cell_type": "code",
      "source": [
        "# Log loss or binary-cross-entropy\n",
        "\n",
        "# -(1/n) sigma( y_true * log(y_pred) + (1-y_true) * log(1-y_pred) )\n",
        "# Here if y_pred is 1 then inside log there will be 0 which is not defined so we set to value which is very close to 1 same with y_pred = 0\n",
        "np.log(0)\n",
        "np.log(0.0000000000000000001)"
      ],
      "metadata": {
        "colab": {
          "base_uri": "https://localhost:8080/"
        },
        "id": "RBo8-B1VO9Cl",
        "outputId": "3a5f1b3f-7631-4319-9aab-fac98dbab90e"
      },
      "execution_count": 41,
      "outputs": [
        {
          "output_type": "stream",
          "name": "stderr",
          "text": [
            "<ipython-input-41-9ada9ada1c27>:5: RuntimeWarning: divide by zero encountered in log\n",
            "  np.log(0)\n"
          ]
        },
        {
          "output_type": "execute_result",
          "data": {
            "text/plain": [
              "-43.74911676688687"
            ]
          },
          "metadata": {},
          "execution_count": 41
        }
      ]
    },
    {
      "cell_type": "code",
      "source": [
        "# Epsilon - very small +ve num\n",
        "# Replacing 0\n",
        "epsilon = 1e-15\n",
        "y_pred_new = [max(epsilon , i) for i in y_pred]\n",
        "y_pred_new"
      ],
      "metadata": {
        "colab": {
          "base_uri": "https://localhost:8080/"
        },
        "id": "eY2D2jgeRDws",
        "outputId": "c32fb507-9469-4db6-cefd-6445238b9baa"
      },
      "execution_count": 42,
      "outputs": [
        {
          "output_type": "execute_result",
          "data": {
            "text/plain": [
              "[1, 1, 1e-15, 1e-15, 1]"
            ]
          },
          "metadata": {},
          "execution_count": 42
        }
      ]
    },
    {
      "cell_type": "code",
      "source": [
        "# Replacing 1\n",
        "y_pred_new = [min(i,1-epsilon) for i in y_pred_new]\n",
        "y_pred_new"
      ],
      "metadata": {
        "colab": {
          "base_uri": "https://localhost:8080/"
        },
        "id": "1qzbQKxNSNgP",
        "outputId": "7538c91b-8c29-4df1-fe5f-596070bbe220"
      },
      "execution_count": 43,
      "outputs": [
        {
          "output_type": "execute_result",
          "data": {
            "text/plain": [
              "[0.999999999999999, 0.999999999999999, 1e-15, 1e-15, 0.999999999999999]"
            ]
          },
          "metadata": {},
          "execution_count": 43
        }
      ]
    },
    {
      "cell_type": "code",
      "source": [
        "y_pred_new = np.array(y_pred_new)\n",
        "np.log(y_pred_new)"
      ],
      "metadata": {
        "colab": {
          "base_uri": "https://localhost:8080/"
        },
        "id": "K46DK0CcS6TC",
        "outputId": "6404eca9-ddf0-490f-ad55-c0ddf9ae7dfc"
      },
      "execution_count": 44,
      "outputs": [
        {
          "output_type": "execute_result",
          "data": {
            "text/plain": [
              "array([-9.99200722e-16, -9.99200722e-16, -3.45387764e+01, -3.45387764e+01,\n",
              "       -9.99200722e-16])"
            ]
          },
          "metadata": {},
          "execution_count": 44
        }
      ]
    },
    {
      "cell_type": "code",
      "source": [
        "# Final error\n",
        "-np.mean(y_true * np.log(y_pred_new) + (1-y_true) * np.log(1-y_pred_new) )"
      ],
      "metadata": {
        "colab": {
          "base_uri": "https://localhost:8080/"
        },
        "id": "Kh0WGUkUTNRc",
        "outputId": "666d394a-4d39-4943-bbc6-5c9db761cab4"
      },
      "execution_count": 45,
      "outputs": [
        {
          "output_type": "execute_result",
          "data": {
            "text/plain": [
              "17.2696280766844"
            ]
          },
          "metadata": {},
          "execution_count": 45
        }
      ]
    }
  ]
}
