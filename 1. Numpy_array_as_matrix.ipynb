{
  "nbformat": 4,
  "nbformat_minor": 0,
  "metadata": {
    "colab": {
      "provenance": [],
      "authorship_tag": "ABX9TyMYv6oMz7cbEtXagZ3ayXM0",
      "include_colab_link": true
    },
    "kernelspec": {
      "name": "python3",
      "display_name": "Python 3"
    },
    "language_info": {
      "name": "python"
    }
  },
  "cells": [
    {
      "cell_type": "markdown",
      "metadata": {
        "id": "view-in-github",
        "colab_type": "text"
      },
      "source": [
        "<a href=\"https://colab.research.google.com/github/tabaahi07/Deep-Learning/blob/main/Numpy_array_as_matrix.ipynb\" target=\"_parent\"><img src=\"https://colab.research.google.com/assets/colab-badge.svg\" alt=\"Open In Colab\"/></a>"
      ]
    },
    {
      "cell_type": "code",
      "execution_count": 20,
      "metadata": {
        "id": "czbk6Axt4zqq"
      },
      "outputs": [],
      "source": [
        "import numpy as np"
      ]
    },
    {
      "cell_type": "code",
      "source": [
        "from re import X\n",
        "# Numpy array can act as a matrix and perform matrix operations\n",
        "x = np.array([[1,2,3] , [2,1,1] , [3,7,5]])\n",
        "y = np.array([[8,0,1] , [1,0,0] , [5,6,2]])\n",
        "x"
      ],
      "metadata": {
        "colab": {
          "base_uri": "https://localhost:8080/"
        },
        "id": "N9vZi2Y85T4U",
        "outputId": "b56717bb-faa0-45f1-9b3f-7f40a5b7da38"
      },
      "execution_count": 21,
      "outputs": [
        {
          "output_type": "execute_result",
          "data": {
            "text/plain": [
              "array([[1, 2, 3],\n",
              "       [2, 1, 1],\n",
              "       [3, 7, 5]])"
            ]
          },
          "metadata": {},
          "execution_count": 21
        }
      ]
    },
    {
      "cell_type": "code",
      "source": [
        "# Matrix substraction\n",
        "p = x-y\n",
        "p"
      ],
      "metadata": {
        "colab": {
          "base_uri": "https://localhost:8080/"
        },
        "id": "I5q1G5_A5yWg",
        "outputId": "226d35d2-87ca-45b8-e908-2c3da19d6a27"
      },
      "execution_count": 22,
      "outputs": [
        {
          "output_type": "execute_result",
          "data": {
            "text/plain": [
              "array([[-7,  2,  2],\n",
              "       [ 1,  1,  1],\n",
              "       [-2,  1,  3]])"
            ]
          },
          "metadata": {},
          "execution_count": 22
        }
      ]
    },
    {
      "cell_type": "code",
      "source": [
        "# Ele to ele multiplication\n",
        "multi = x * y\n",
        "multi"
      ],
      "metadata": {
        "colab": {
          "base_uri": "https://localhost:8080/"
        },
        "id": "S8vyyjrY7Boe",
        "outputId": "9da15cc6-36a1-4177-961c-5e16ff4a7419"
      },
      "execution_count": 23,
      "outputs": [
        {
          "output_type": "execute_result",
          "data": {
            "text/plain": [
              "array([[ 8,  0,  3],\n",
              "       [ 2,  0,  0],\n",
              "       [15, 42, 10]])"
            ]
          },
          "metadata": {},
          "execution_count": 23
        }
      ]
    },
    {
      "cell_type": "code",
      "source": [
        "# Matrix dot product\n",
        "np.dot(x , y)"
      ],
      "metadata": {
        "colab": {
          "base_uri": "https://localhost:8080/"
        },
        "id": "_ap10Xs97PMv",
        "outputId": "420ab2fb-6188-427a-fa2c-79a6196b286c"
      },
      "execution_count": 24,
      "outputs": [
        {
          "output_type": "execute_result",
          "data": {
            "text/plain": [
              "array([[25, 18,  7],\n",
              "       [22,  6,  4],\n",
              "       [56, 30, 13]])"
            ]
          },
          "metadata": {},
          "execution_count": 24
        }
      ]
    },
    {
      "cell_type": "code",
      "source": [
        "# cross product\n",
        "np.cross(x , y)"
      ],
      "metadata": {
        "colab": {
          "base_uri": "https://localhost:8080/"
        },
        "id": "Hq6G5HoZ8Am-",
        "outputId": "5d6f75f3-19d7-4a61-caea-00ed3cf651b3"
      },
      "execution_count": 25,
      "outputs": [
        {
          "output_type": "execute_result",
          "data": {
            "text/plain": [
              "array([[  2,  23, -16],\n",
              "       [  0,   1,  -1],\n",
              "       [-16,  19, -17]])"
            ]
          },
          "metadata": {},
          "execution_count": 25
        }
      ]
    }
  ]
}
